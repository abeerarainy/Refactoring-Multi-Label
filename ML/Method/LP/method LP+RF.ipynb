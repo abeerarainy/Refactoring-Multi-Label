import pandas as pd
import numpy as np
import time
from sklearn.model_selection import KFold
from sklearn.metrics import accuracy_score, hamming_loss, f1_score, precision_score, recall_score, jaccard_score
from sklearn.preprocessing import StandardScaler
from skmultilearn.problem_transform import LabelPowerset
from sklearn.ensemble import RandomForestClassifier
import matplotlib.pyplot as plt

# ▶️ Load dataset
df = pd.read_csv(r"C:\Users\HP\Dropbox\PHD\level 2\SWE620\project\Fdroid\method\method_multi_label_balanced_ml_ros.csv")

# ▶️ Define label and feature columns
label_columns = [
    'Rename Method',
    'Extract Method',
    'Inline Method',
    'Move Method',
    'Extract And Move Method',
    'Push Down Method',
    'Pull Up Method'
]

feature_columns = [col for col in df.columns if col not in label_columns + ['className', 'fullMethodName']]

# ▶️ Prepare features and labels
X = df[feature_columns].values
y = df[label_columns].values

# ▶️ 10-Fold Cross-Validation
kf = KFold(n_splits=10, shuffle=True, random_state=42)

# ▶️ Metrics storage
accuracy_scores = []
jaccard_accuracies = []
hamming_losses = []
f1_macros = []
f1_micros = []
precision_macros = []
precision_micros = []
recall_macros = []
recall_micros = []

# ▶️ Start timing
start_time = time.time()

fold = 1
for train_index, test_index in kf.split(X):
    print(f"\n=== Fold {fold} ===")

    X_train, X_test = X[train_index], X[test_index]
    y_train, y_test = y[train_index], y[test_index]

    # ▶️ Base Random Forest Classifier with specified hyperparameters
    rf_classifier = RandomForestClassifier(
        max_depth=50,
        n_estimators=500,
        criterion='entropy',
        class_weight='balanced',
        random_state=42,
        n_jobs=-1
    )

    # ▶️ Wrap in Label Powerset
    lp_classifier = LabelPowerset(classifier=rf_classifier)

    # ▶️ Fit model
    lp_classifier.fit(X_train, y_train)

    # ▶️ Predict
    y_pred = lp_classifier.predict(X_test)

    if hasattr(y_pred, "toarray"):
        y_pred = y_pred.toarray()

    # ▶️ Evaluation Metrics
    acc = accuracy_score(y_test, y_pred)
    jaccard_acc = jaccard_score(y_test, y_pred, average='samples')
    ham_loss = hamming_loss(y_test, y_pred)
    f1_macro = f1_score(y_test, y_pred, average='macro', zero_division=0)
    f1_micro = f1_score(y_test, y_pred, average='micro', zero_division=0)
    precision_macro = precision_score(y_test, y_pred, average='macro', zero_division=0)
    precision_micro = precision_score(y_test, y_pred, average='micro', zero_division=0)
    recall_macro = recall_score(y_test, y_pred, average='macro', zero_division=0)
    recall_micro = recall_score(y_test, y_pred, average='micro', zero_division=0)

    # ▶️ Store metrics
    accuracy_scores.append(acc)
    jaccard_accuracies.append(jaccard_acc)
    hamming_losses.append(ham_loss)
    f1_macros.append(f1_macro)
    f1_micros.append(f1_micro)
    precision_macros.append(precision_macro)
    precision_micros.append(precision_micro)
    recall_macros.append(recall_macro)
    recall_micros.append(recall_micro)

    # ▶️ Print results for this fold
    print(f"Hamming Loss        : {ham_loss:.4f}")
    print(f"Subset Accuracy     : {acc:.4f}")
    print(f"Jaccard Accuracy    : {jaccard_acc:.4f}")
    print(f"F1 Macro            : {f1_macro:.4f}")
    print(f"F1 Micro            : {f1_micro:.4f}")
    print(f"Precision Macro     : {precision_macro:.4f}")
    print(f"Precision Micro     : {precision_micro:.4f}")
    print(f"Recall Macro        : {recall_macro:.4f}")
    print(f"Recall Micro        : {recall_micro:.4f}")

    fold += 1

# ▶️ End timing
end_time = time.time()
training_duration = (end_time - start_time) / 60  # in minutes

# ▶️ Display Cross-Validation Results
print("\n=== Cross-Validation Results (Mean ± Std) ===")
print(f"Mean Hamming Loss        : {np.mean(hamming_losses):.4f} ± {np.std(hamming_losses):.4f}")
print(f"Mean Subset Accuracy     : {np.mean(accuracy_scores):.4f} ± {np.std(accuracy_scores):.4f}")
print(f"Mean Jaccard Accuracy    : {np.mean(jaccard_accuracies):.4f} ± {np.std(jaccard_accuracies):.4f}")
print(f"Mean F1 Macro            : {np.mean(f1_macros):.4f} ± {np.std(f1_macros):.4f}")
print(f"Mean F1 Micro            : {np.mean(f1_micros):.4f} ± {np.std(f1_micros):.4f}")
print(f"Mean Precision Macro     : {np.mean(precision_macros):.4f} ± {np.std(precision_macros):.4f}")
print(f"Mean Precision Micro     : {np.mean(precision_micros):.4f} ± {np.std(precision_micros):.4f}")
print(f"Mean Recall Macro        : {np.mean(recall_macros):.4f} ± {np.std(recall_macros):.4f}")
print(f"Mean Recall Micro        : {np.mean(recall_micros):.4f} ± {np.std(recall_micros):.4f}")
print(f"\nTotal Training Time: {training_duration:.2f} minutes")

lp_classifier.fit(X, y)
y_pred_all = lp_classifier.predict(X)

if hasattr(y_pred_all, "toarray"):
    y_pred_all = y_pred_all.toarray()

pred_label_counts = pd.DataFrame(y_pred_all, columns=label_columns).sum()

plt.figure(figsize=(10, 6))
plt.bar(pred_label_counts.index, pred_label_counts.values, color='orange')
plt.title("Label Distribution in Predictions (LP + RF, Full Data)")
plt.xlabel("Refactoring Labels")
plt.ylabel("Frequency")
plt.xticks(rotation=45)
plt.grid(axis='y')
plt.show()
