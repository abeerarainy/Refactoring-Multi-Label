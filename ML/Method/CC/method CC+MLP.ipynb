import pandas as pd
import numpy as np
import time
from sklearn.neural_network import MLPClassifier
from sklearn.preprocessing import StandardScaler
from sklearn.model_selection import KFold
from sklearn.metrics import (
    accuracy_score, hamming_loss, f1_score,
    precision_score, recall_score, jaccard_score
)

from google.colab import drive
drive.mount('/content/drive')

# === Load dataset ===
file_path = "/content/drive/MyDrive/dataset/method_multi_label_balanced_ml_ros.csv"
df = pd.read_csv(file_path)

# === Columns ===
identifier_columns = ['className', 'fullMethodName']
label_columns = [
    'Rename Method',
    'Extract Method',
    'Inline Method',
    'Move Method',
    'Extract And Move Method',
    'Push Down Method',
    'Pull Up Method'
]

# === Prepare features and labels ===
X = df.drop(columns=label_columns + identifier_columns)
y = df[label_columns].values

# === Scale features ===
scaler = StandardScaler()
X_scaled = scaler.fit_transform(X)

# === Cross-validation ===
kf = KFold(n_splits=10, shuffle=True, random_state=42)

# === Metrics containers ===
subset_accuracies = []
jaccard_means = []
hamming_losses = []
f1_macros = []
f1_micros = []
precision_macros = []
precision_micros = []
recall_macros = []
recall_micros = []

# === Classifier Chain + MLPClassifier Cross-Validation ===
start_time = time.time()
fold = 1

for train_idx, test_idx in kf.split(X_scaled):
    print(f"\n=== Training Fold {fold} ===")

    X_train, X_test = X_scaled[train_idx], X_scaled[test_idx]
    y_train, y_test = y[train_idx], y[test_idx]

    y_pred_chain = np.zeros_like(y_test)

    for i in range(y.shape[1]):
        # Add previous label predictions as features
        if i > 0:
            X_train_aug = np.hstack((X_train, y_train[:, :i]))
            X_test_aug = np.hstack((X_test, y_pred_chain[:, :i]))
        else:
            X_train_aug = X_train
            X_test_aug = X_test

        clf = MLPClassifier(
            hidden_layer_sizes=(128, 64),
            max_iter=300,
            early_stopping=True,
            random_state=42
        )
        clf.fit(X_train_aug, y_train[:, i])
        y_pred_chain[:, i] = clf.predict(X_test_aug)

    # === Evaluate predictions ===
    acc = accuracy_score(y_test, y_pred_chain)
    jaccard_mean = jaccard_score(y_test, y_pred_chain, average='samples', zero_division=0)
    ham_loss = hamming_loss(y_test, y_pred_chain)
    f1_macro = f1_score(y_test, y_pred_chain, average='macro', zero_division=0)
    f1_micro = f1_score(y_test, y_pred_chain, average='micro', zero_division=0)
    precision_macro = precision_score(y_test, y_pred_chain, average='macro', zero_division=0)
    precision_micro = precision_score(y_test, y_pred_chain, average='micro', zero_division=0)
    recall_macro = recall_score(y_test, y_pred_chain, average='macro', zero_division=0)
    recall_micro = recall_score(y_test, y_pred_chain, average='micro', zero_division=0)

    # === Store metrics ===
    subset_accuracies.append(acc)
    jaccard_means.append(jaccard_mean)
    hamming_losses.append(ham_loss)
    f1_macros.append(f1_macro)
    f1_micros.append(f1_micro)
    precision_macros.append(precision_macro)
    precision_micros.append(precision_micro)
    recall_macros.append(recall_macro)
    recall_micros.append(recall_micro)

    print(f"Fold {fold} Completed.")
    fold += 1

# === Training duration ===
total_time = (time.time() - start_time) / 60

# === Final Results ===
print("\n--- 10-Fold Cross-Validation Results (CC + MLPClassifier) ---")
print(f"Subset Accuracy    : {np.mean(subset_accuracies):.4f} ± {np.std(subset_accuracies):.4f}")
print(f"Jaccard Mean       : {np.mean(jaccard_means):.4f} ± {np.std(jaccard_means):.4f}")
print(f"Hamming Loss       : {np.mean(hamming_losses):.4f} ± {np.std(hamming_losses):.4f}")
print(f"F1 Macro           : {np.mean(f1_macros):.4f} ± {np.std(f1_macros):.4f}")
print(f"F1 Micro           : {np.mean(f1_micros):.4f} ± {np.std(f1_micros):.4f}")
print(f"Precision Macro    : {np.mean(precision_macros):.4f} ± {np.std(precision_macros):.4f}")
print(f"Precision Micro    : {np.mean(precision_micros):.4f} ± {np.std(precision_micros):.4f}")
print(f"Recall Macro       : {np.mean(recall_macros):.4f} ± {np.std(recall_macros):.4f}")
print(f"Recall Micro       : {np.mean(recall_micros):.4f} ± {np.std(recall_micros):.4f}")
print(f"\nTotal Training Time: {total_time:.2f} minutes")
