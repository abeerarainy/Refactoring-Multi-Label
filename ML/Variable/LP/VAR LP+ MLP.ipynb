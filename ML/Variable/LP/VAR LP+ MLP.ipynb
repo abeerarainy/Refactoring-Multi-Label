import pandas as pd
import numpy as np
import time
from sklearn.preprocessing import StandardScaler, LabelEncoder
from sklearn.model_selection import KFold
from sklearn.neural_network import MLPClassifier
from sklearn.metrics import (
    accuracy_score, hamming_loss, f1_score,
    precision_score, recall_score, jaccard_score
)

from google.colab import drive
drive.mount('/content/drive')

# Load dataset
file_path = "/content/drive/MyDrive/dataset/var_multi_label_balanced_ml_ros.csv"
df = pd.read_csv(file_path)

identifier_columns = ['className', 'fullMethodName', 'variableName']
label_columns = [
    'Rename Variable',
    'Rename Parameter',
    'Parameterize Variable',
    'Replace Variable With Attribute',
    'Inline Variable',
    'Extract Variable'
]

X = df.drop(columns=label_columns + identifier_columns).values
y_multi = df[label_columns]

# Label Powerset: Convert multi-label to single multi-class
label_combinations = y_multi.apply(lambda row: '-'.join(row.astype(str)), axis=1)
label_encoder = LabelEncoder()
y_encoded = label_encoder.fit_transform(label_combinations)

# Scale features
scaler = StandardScaler()
X_scaled = scaler.fit_transform(X)

kf = KFold(n_splits=10, shuffle=True, random_state=42)

# Metrics
accuracy_scores = []
jaccard_means = []
hamming_losses = []
f1_macros = []
f1_micros = []
precision_macros = []
precision_micros = []
recall_macros = []
recall_micros = []

# Start timing
start_time = time.time()
fold = 1

for train_index, test_index in kf.split(X_scaled):
    print(f"\nTraining Fold {fold}...")

    X_train, X_test = X_scaled[train_index], X_scaled[test_index]
    y_train, y_test = y_encoded[train_index], y_encoded[test_index]

    # === Train MLPClassifier ===
    clf = MLPClassifier(
        hidden_layer_sizes=(128, 64),
        max_iter=300,
        early_stopping=True,
        random_state=42
    )
    clf.fit(X_train, y_train)

    y_pred_classes = clf.predict(X_test)

    # Decode LP to multi-label
    y_pred_multilabel = np.array([
        list(map(int, combo.split('-')))
        for combo in label_encoder.inverse_transform(y_pred_classes)
    ])
    y_test_multilabel = np.array([
        list(map(int, combo.split('-')))
        for combo in label_encoder.inverse_transform(y_test)
    ])

    # Metrics
    acc = accuracy_score(y_test_multilabel, y_pred_multilabel)
    jaccard_mean = jaccard_score(y_test_multilabel, y_pred_multilabel, average='samples', zero_division=0)
    ham_loss = hamming_loss(y_test_multilabel, y_pred_multilabel)
    f1_macro = f1_score(y_test_multilabel, y_pred_multilabel, average='macro', zero_division=0)
    f1_micro = f1_score(y_test_multilabel, y_pred_multilabel, average='micro', zero_division=0)
    precision_macro = precision_score(y_test_multilabel, y_pred_multilabel, average='macro', zero_division=0)
    precision_micro = precision_score(y_test_multilabel, y_pred_multilabel, average='micro', zero_division=0)
    recall_macro = recall_score(y_test_multilabel, y_pred_multilabel, average='macro', zero_division=0)
    recall_micro = recall_score(y_test_multilabel, y_pred_multilabel, average='micro', zero_division=0)

    accuracy_scores.append(acc)
    jaccard_means.append(jaccard_mean)
    hamming_losses.append(ham_loss)
    f1_macros.append(f1_macro)
    f1_micros.append(f1_micro)
    precision_macros.append(precision_macro)
    precision_micros.append(precision_micro)
    recall_macros.append(recall_macro)
    recall_micros.append(recall_micro)

    print(f"Fold {fold} Completed.")
    fold += 1

# End timing
end_time = time.time()
total_time = (end_time - start_time) / 60

# Results Summary
print("\n--- 10-Fold Cross-Validation Results (Label Powerset + MLPClassifier) ---")
print(f"Subset Accuracy    : {np.mean(accuracy_scores):.4f} ± {np.std(accuracy_scores):.4f}")
print(f"Jaccard Mean       : {np.mean(jaccard_means):.4f} ± {np.std(jaccard_means):.4f}")
print(f"Hamming Loss       : {np.mean(hamming_losses):.4f} ± {np.std(hamming_losses):.4f}")
print(f"F1 Macro           : {np.mean(f1_macros):.4f} ± {np.std(f1_macros):.4f}")
print(f"F1 Micro           : {np.mean(f1_micros):.4f} ± {np.std(f1_micros):.4f}")
print(f"Precision Macro    : {np.mean(precision_macros):.4f} ± {np.std(precision_macros):.4f}")
print(f"Precision Micro    : {np.mean(precision_micros):.4f} ± {np.std(precision_micros):.4f}")
print(f"Recall Macro       : {np.mean(recall_macros):.4f} ± {np.std(recall_macros):.4f}")
print(f"Recall Micro       : {np.mean(recall_micros):.4f} ± {np.std(recall_micros):.4f}")
print(f"\nTotal Training Time: {total_time:.2f} minutes")
