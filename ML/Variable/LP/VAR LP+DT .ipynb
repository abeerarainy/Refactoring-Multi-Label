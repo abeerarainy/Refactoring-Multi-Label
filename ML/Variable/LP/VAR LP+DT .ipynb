import pandas as pd
import numpy as np
import time
from sklearn.tree import DecisionTreeClassifier
from skmultilearn.problem_transform import LabelPowerset
from sklearn.metrics import (
    accuracy_score,
    hamming_loss,
    f1_score,
    precision_score,
    recall_score,
    jaccard_score
)
from sklearn.preprocessing import StandardScaler
from sklearn.model_selection import KFold

# ▶️ Load the dataset (update the path as needed)
file_path = r"C:\Users\HP\Dropbox\PHD\level 2\SWE620\project\Fdroid\variable\var_multi_label_balanced_ml_ros.csv"
df = pd.read_csv(file_path)

# ▶️ Define identifier columns (drop them for classification)
identifier_columns = ['className', 'fullMethodName', 'variableName']

# ▶️ Define multi-label target columns
label_columns = [
    'Rename Variable',
    'Rename Parameter',
    'Parameterize Variable',
    'Replace Variable With Attribute',
    'Inline Variable',
    'Extract Variable'
]

# ▶️ Drop identifier + label columns from features
X = df.drop(columns=label_columns + identifier_columns)
y = df[label_columns]

# ▶️ Feature scaling (optional for DT, but okay for pre-processing standardization)
scaler = StandardScaler()
X_scaled = scaler.fit_transform(X)

# ▶️ 10-Fold Cross Validation setup
kf = KFold(n_splits=10, shuffle=True, random_state=42)

# ▶️ Custom Decision Tree Parameters
dt_classifier_params = dict( 
    max_depth=50,
    criterion='entropy',
    splitter='best',
    min_samples_split=2,
    min_samples_leaf=1,
    min_impurity_decrease=0.0,
    random_state=42
)

# ▶️ Metric storage
accuracy_scores = []
hamming_losses = []
jaccard_accuracies = []
f1_macros = []
f1_micros = []
precision_macros = []
precision_micros = []
recall_macros = []
recall_micros = []

# ▶️ Start timing
start_time = time.time()

# ▶️ Cross-validation loop
fold = 1
for train_index, test_index in kf.split(X_scaled):
    print(f"\nTraining Fold {fold}...")

    X_train, X_test = X_scaled[train_index], X_scaled[test_index]
    y_train, y_test = y.iloc[train_index], y.iloc[test_index]

    # ▶️ Decision Tree classifier with custom params
    dt_classifier = DecisionTreeClassifier(**dt_classifier_params)

    # ▶️ Label Powerset wrapper around Decision Tree
    lp_classifier = LabelPowerset(classifier=dt_classifier)

    # ▶️ Train
    lp_classifier.fit(X_train, y_train)

    # ▶️ Predict
    y_pred = lp_classifier.predict(X_test).toarray()

    # ▶️ Evaluation Metrics
    acc = accuracy_score(y_test, y_pred)
    ham_loss = hamming_loss(y_test, y_pred)
    jaccard_acc = jaccard_score(y_test, y_pred, average='samples', zero_division=0)  # MEAN JACCARD ACCURACY
    f1_macro = f1_score(y_test, y_pred, average='macro', zero_division=0)
    f1_micro = f1_score(y_test, y_pred, average='micro', zero_division=0)
    precision_macro = precision_score(y_test, y_pred, average='macro', zero_division=0)
    precision_micro = precision_score(y_test, y_pred, average='micro', zero_division=0)
    recall_macro = recall_score(y_test, y_pred, average='macro', zero_division=0)
    recall_micro = recall_score(y_test, y_pred, average='micro', zero_division=0)

    # ▶️ Store metrics
    accuracy_scores.append(acc)
    hamming_losses.append(ham_loss)
    jaccard_accuracies.append(jaccard_acc)
    f1_macros.append(f1_macro)
    f1_micros.append(f1_micro)
    precision_macros.append(precision_macro)
    precision_micros.append(precision_micro)
    recall_macros.append(recall_macro)
    recall_micros.append(recall_micro)

    print(f"Fold {fold} Completed.")
    fold += 1

# ▶️ End timing
end_time = time.time()
training_duration = (end_time - start_time) / 60  # minutes

# ▶️ Cross-Validation Results
print("\n--- 10-Fold Cross-Validation Results (Label Powerset + Decision Tree) ---")
print(f"Subset Accuracy    : {np.mean(accuracy_scores):.4f} ± {np.std(accuracy_scores):.4f}")
print(f"Jaccard Accuracy   : {np.mean(jaccard_accuracies):.4f} ± {np.std(jaccard_accuracies):.4f}")
print(f"Hamming Loss       : {np.mean(hamming_losses):.4f} ± {np.std(hamming_losses):.4f}")
print(f"F1 Macro           : {np.mean(f1_macros):.4f} ± {np.std(f1_macros):.4f}")
print(f"F1 Micro           : {np.mean(f1_micros):.4f} ± {np.std(f1_micros):.4f}")
print(f"Precision Macro    : {np.mean(precision_macros):.4f} ± {np.std(precision_macros):.4f}")
print(f"Precision Micro    : {np.mean(precision_micros):.4f} ± {np.std(precision_micros):.4f}")
print(f"Recall Macro       : {np.mean(recall_macros):.4f} ± {np.std(recall_macros):.4f}")
print(f"Recall Micro       : {np.mean(recall_micros):.4f} ± {np.std(recall_micros):.4f}")
print(f"\nTotal Training Time: {training_duration:.2f} minutes")
