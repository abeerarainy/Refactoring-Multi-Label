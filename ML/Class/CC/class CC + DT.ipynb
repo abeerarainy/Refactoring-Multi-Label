import pandas as pd
import numpy as np
import time
from sklearn.model_selection import KFold
from sklearn.tree import DecisionTreeClassifier
from sklearn.multioutput import ClassifierChain
from sklearn.metrics import (
    accuracy_score, hamming_loss, f1_score,
    precision_score, recall_score, jaccard_score
)

# ▶️ Load dataset
df = pd.read_csv(r"C:\Users\HP\Dropbox\PHD\level 2\SWE620\project\Fdroid\class_multi_label_balanced_ml_ros.csv")

# ▶️ Feature set and labels
X = df.iloc[:, 1:-7]
y = df.iloc[:, -7:]

# ▶️ Initialize 10-Fold Cross-Validation
kf = KFold(n_splits=10, shuffle=True, random_state=42)

# ▶️ Metrics storage
accuracy_scores = []
jaccard_accuracies = []
hamming_losses = []
f1_macros = []
f1_micros = []
precision_macros = []
precision_micros = []
recall_macros = []
recall_micros = []

# ▶️ Start overall timing
start_time = time.time()

fold = 1
for train_index, test_index in kf.split(X):
    print(f"\nTraining Fold {fold}...")

    # ▶️ Split the data
    X_train, X_test = X.iloc[train_index], X.iloc[test_index]
    y_train, y_test = y.iloc[train_index], y.iloc[test_index]

    # ▶️ Initialize ClassifierChain with DecisionTreeClassifier (with hyperparameters)
    base_dt = DecisionTreeClassifier(
        max_depth=50,
        criterion='entropy',
        splitter='best',
        min_samples_split=2,
        min_samples_leaf=1,
        min_impurity_decrease=0.0,
        random_state=42,
        class_weight='balanced'
    )
    cc_dt = ClassifierChain(base_dt)

    # ▶️ Train the classifier
    cc_dt.fit(X_train, y_train)

    # ▶️ Predict on the test set
    y_pred = cc_dt.predict(X_test)

    # ▶️ Metrics computation
    acc = accuracy_score(y_test, y_pred)
    jaccard_acc = jaccard_score(y_test, y_pred, average='samples')
    ham_loss = hamming_loss(y_test, y_pred)
    f1_macro = f1_score(y_test, y_pred, average='macro')
    f1_micro = f1_score(y_test, y_pred, average='micro')
    precision_macro = precision_score(y_test, y_pred, average='macro')
    precision_micro = precision_score(y_test, y_pred, average='micro')
    recall_macro = recall_score(y_test, y_pred, average='macro')
    recall_micro = recall_score(y_test, y_pred, average='micro')

    # ▶️ Append metrics
    accuracy_scores.append(acc)
    jaccard_accuracies.append(jaccard_acc)
    hamming_losses.append(ham_loss)
    f1_macros.append(f1_macro)
    f1_micros.append(f1_micro)
    precision_macros.append(precision_macro)
    precision_micros.append(precision_micro)
    recall_macros.append(recall_macro)
    recall_micros.append(recall_micro)

    print(f"Fold {fold} Completed")
    print(f"Subset Accuracy    : {acc:.4f}")
    print(f"Jaccard Accuracy   : {jaccard_acc:.4f}")
    print(f"Hamming Loss       : {ham_loss:.4f}")
    print(f"F1 Macro           : {f1_macro:.4f}")
    print(f"F1 Micro           : {f1_micro:.4f}")

    fold += 1

# ▶️ End overall timing
end_time = time.time()
total_training_time = (end_time - start_time) / 60  # minutes

# ▶️ Print average and std of metrics
print("\n--- 10-Fold Cross-Validation Results ---")
print(f"Subset Accuracy    : {np.mean(accuracy_scores):.4f} (+/- {np.std(accuracy_scores):.4f})")
print(f"Jaccard Accuracy   : {np.mean(jaccard_accuracies):.4f} (+/- {np.std(jaccard_accuracies):.4f})")
print(f"Hamming Loss       : {np.mean(hamming_losses):.4f} (+/- {np.std(hamming_losses):.4f})")
print(f"F1 Macro           : {np.mean(f1_macros):.4f} (+/- {np.std(f1_macros):.4f})")
print(f"F1 Micro           : {np.mean(f1_micros):.4f} (+/- {np.std(f1_micros):.4f})")
print(f"Precision Macro    : {np.mean(precision_macros):.4f} (+/- {np.std(precision_macros):.4f})")
print(f"Precision Micro    : {np.mean(precision_micros):.4f} (+/- {np.std(precision_micros):.4f})")
print(f"Recall Macro       : {np.mean(recall_macros):.4f} (+/- {np.std(recall_macros):.4f})")
print(f"Recall Micro       : {np.mean(recall_micros):.4f} (+/- {np.std(recall_micros):.4f})")

print(f"\nTotal Training Time: {total_training_time:.2f} minutes")
