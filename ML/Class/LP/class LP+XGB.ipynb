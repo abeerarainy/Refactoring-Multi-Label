import pandas as pd
import numpy as np
import time
from sklearn.model_selection import KFold
from sklearn.metrics import (
    accuracy_score, hamming_loss, f1_score,
    precision_score, recall_score, jaccard_score
)
from sklearn.preprocessing import StandardScaler
from xgboost import XGBClassifier
from skmultilearn.problem_transform import LabelPowerset

# ▶️ Load dataset
file_path = r"C:\Users\HP\Dropbox\PHD\level 2\SWE620\project\Fdroid\variable\var_multi_label_balanced_ml_ros.csv"
df = pd.read_csv(file_path)

# ▶️ Define identifier and label columns
identifier_columns = ['className', 'fullMethodName', 'variableName']
label_columns = [
    'Rename Variable',
    'Rename Parameter',
    'Parameterize Variable',
    'Replace Variable With Attribute',
    'Inline Variable',
    'Extract Variable'
]

# ▶️ Prepare features and labels
X = df.drop(columns=label_columns + identifier_columns).copy().values
y = df[label_columns].copy().values
X = np.nan_to_num(X)

# ▶️ Feature scaling
scaler = StandardScaler()
X_scaled = scaler.fit_transform(X)

# ▶️ Cross-validation setup
kf = KFold(n_splits=10, shuffle=True, random_state=42)

# ▶️ Metrics storage
accuracy_scores = []
jaccard_accuracies = []
hamming_losses = []
f1_macros = []
f1_micros = []
precision_macros = []
precision_micros = []
recall_macros = []
recall_micros = []

# ▶️ Start timer
start_time = time.time()

fold = 1
for train_index, test_index in kf.split(X_scaled):
    print(f"\nTraining Fold {fold}...")

    X_train, X_test = X_scaled[train_index], X_scaled[test_index]
    y_train, y_test = y[train_index], y[test_index]

    # ▶️ Create LP classifier using XGBoost
    xgb_model = XGBClassifier(
        objective='binary:logistic',
        eval_metric='logloss',
        use_label_encoder=False,
        learning_rate=0.1,
        max_depth=9,
        n_estimators=300,
        n_jobs=-1,
        random_state=42
    )

    lp_classifier = LabelPowerset(classifier=xgb_model)
    lp_classifier.fit(X_train, y_train)

    y_pred = lp_classifier.predict(X_test)
    if hasattr(y_pred, "toarray"):
        y_pred = y_pred.toarray()

    # ▶️ Evaluate
    acc = accuracy_score(y_test, y_pred)
    jaccard_acc = jaccard_score(y_test, y_pred, average='samples')
    ham_loss = hamming_loss(y_test, y_pred)
    f1_macro = f1_score(y_test, y_pred, average='macro', zero_division=0)
    f1_micro = f1_score(y_test, y_pred, average='micro', zero_division=0)
    precision_macro = precision_score(y_test, y_pred, average='macro', zero_division=0)
    precision_micro = precision_score(y_test, y_pred, average='micro', zero_division=0)
    recall_macro = recall_score(y_test, y_pred, average='macro', zero_division=0)
    recall_micro = recall_score(y_test, y_pred, average='micro', zero_division=0)

    accuracy_scores.append(acc)
    jaccard_accuracies.append(jaccard_acc)
    hamming_losses.append(ham_loss)
    f1_macros.append(f1_macro)
    f1_micros.append(f1_micro)
    precision_macros.append(precision_macro)
    precision_micros.append(precision_micro)
    recall_macros.append(recall_macro)
    recall_micros.append(recall_micro)

    print(f"Fold {fold} Completed")
    print(f"Subset Accuracy     : {acc:.4f}")
    print(f"Jaccard Accuracy    : {jaccard_acc:.4f}")
    fold += 1

# ▶️ End timer
end_time = time.time()
training_duration = (end_time - start_time) / 60

# ▶️ Summary
print("\n--- 10-Fold Cross-Validation Results (LP + XGBoost) ---")
print(f"Subset Accuracy    : {np.mean(accuracy_scores):.4f} ± {np.std(accuracy_scores):.4f}")
print(f"Jaccard Accuracy   : {np.mean(jaccard_accuracies):.4f} ± {np.std(jaccard_accuracies):.4f}")
print(f"Hamming Loss       : {np.mean(hamming_losses):.4f} ± {np.std(hamming_losses):.4f}")
print(f"F1 Macro           : {np.mean(f1_macros):.4f} ± {np.std(f1_macros):.4f}")
print(f"F1 Micro           : {np.mean(f1_micros):.4f} ± {np.std(f1_micros):.4f}")
print(f"Precision Macro    : {np.mean(precision_macros):.4f} ± {np.std(precision_macros):.4f}")
print(f"Precision Micro    : {np.mean(precision_micros):.4f} ± {np.std(precision_micros):.4f}")
print(f"Recall Macro       : {np.mean(recall_macros):.4f} ± {np.std(recall_macros):.4f}")
print(f"Recall Micro       : {np.mean(recall_micros):.4f} ± {np.std(recall_micros):.4f}")
print(f"\nTotal Training Time: {training_duration:.2f} minutes")