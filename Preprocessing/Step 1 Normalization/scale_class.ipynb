import pandas as pd
from scaling import perform_fit_scaling  # Ensure you have the correct import


file_path = r"C:\Users\HP\Dropbox\PHD\level 2\SWE620\project\Fdroid\Fdroid_type1.csv"
df = pd.read_csv(file_path)


exclude_cols = ['className', 'refactoring']
numeric_cols = df.select_dtypes(include=['number']).columns.difference(exclude_cols)
df_numeric = df[numeric_cols]


df_scaled_numeric, scaler = perform_fit_scaling(df_numeric)


df_scaled = df_scaled_numeric.copy()
df_scaled['className'] = df['className']
df_scaled['refactoring'] = df['refactoring']


scaled_file_path = r"C:\Users\HP\Dropbox\PHD\level 2\SWE620\project\Fdroid\Fdroid_type1_scaled1.csv"
df_scaled.to_csv(scaled_file_path, index=False)

print(f"Scaling complete. Scaled dataset saved to {scaled_file_path}.")