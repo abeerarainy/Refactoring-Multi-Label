import pandas as pd
from scaling import perform_fit_scaling  # Ensure you have the correct import

# Load the dataset
file_path = r"C:\Users\HP\Dropbox\PHD\level 2\SWE620\project\Fdroid\variable\Fdroid_type3.csv"
df = pd.read_csv(file_path)

# Columns to exclude from scaling
exclude_cols = ['className', 'fullMethodName', 'variableName', 'refactoring']

# Selecting numeric columns excluding the ones specified
numeric_cols = df.select_dtypes(include=['number']).columns.difference(exclude_cols)
df_numeric = df[numeric_cols]

# Perform scaling on the selected numeric columns
df_scaled_numeric, scaler = perform_fit_scaling(df_numeric)

# Reconstruct the final dataframe:
# - scaled numeric features
# - excluded columns as-is
df_scaled = df_scaled_numeric.copy()
for col in exclude_cols:
    df_scaled[col] = df[col]


final_columns = list(df_scaled_numeric.columns) + exclude_cols
df_scaled = df_scaled[final_columns]

# Save the scaled dataset
scaled_file_path = r"C:\Users\HP\Dropbox\PHD\level 2\SWE620\project\Fdroid\variable\Fdroid_type3_scaled1.csv"
df_scaled.to_csv(scaled_file_path, index=False)

print(f"Scaling complete. Scaled dataset saved to {scaled_file_path}.")
