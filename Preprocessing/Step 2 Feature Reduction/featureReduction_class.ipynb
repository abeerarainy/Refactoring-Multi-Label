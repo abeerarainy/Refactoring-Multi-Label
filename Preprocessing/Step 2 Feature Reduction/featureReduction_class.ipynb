import pandas as pd
from feature_reduction import perform_feature_reduction

# Load the dataset
file_path = r"C:\Users\HP\Dropbox\PHD\level 2\SWE620\project\Fdroid\Fdroid_type1_scaled1.csv"
df = pd.read_csv(file_path)

# Define columns to exclude from feature selection
exclude_cols = ['className', 'refactoring']

# Separate features (X) and target (y)
X_features = df.drop(columns=exclude_cols, errors='ignore')  # Features for reduction
y = df['refactoring']  # Label column
class_col = df['className']  # Keep class column untouched

# Perform feature reduction (selection) on X_features
X_reduced = perform_feature_reduction(X_features, y)

# Reconstruct the final dataset with selected features + class + refactoring
df_reduced = X_reduced.copy()
df_reduced['className'] = class_col
df_reduced['refactoring'] = y

# Save the reduced feature dataset
reduced_file_path = r"C:\Users\HP\Dropbox\PHD\level 2\SWE620\project\Fdroid\Fdroid_type1_feature2.csv"
df_reduced.to_csv(reduced_file_path, index=False)

print(f"Feature selection complete. Reduced dataset saved to {reduced_file_path}.")


