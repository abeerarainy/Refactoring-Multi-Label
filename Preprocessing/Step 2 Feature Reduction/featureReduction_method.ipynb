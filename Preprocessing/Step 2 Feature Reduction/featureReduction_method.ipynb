import pandas as pd
from sklearn.svm import SVC
from sklearn.feature_selection import RFECV

# Step 1: Load your scaled dataset
df = pd.read_csv('/mnt/data/scaled_Fdroid_type2.csv')

# Step 2: Define columns to exclude from feature selection
exclude_columns = ['className', 'fullMethodName', 'refactoring']

# Step 3: Split data into features (X) and target (y)
X = df.drop(columns=exclude_columns)
y = df['refactoring']

# Step 4: Define your feature selection function (using SVC)
def perform_feature_reduction(X, y):
    estimator = SVC(kernel="linear")  # Classifier for categorical target
    selector = RFECV(estimator, step=1, cv=5)
    selector.fit(X, y)
    
    selected_columns = X.columns[selector.support_]
    print("Selected features ({}):".format(len(selected_columns)))
    print(', '.join(selected_columns))
    
    return X[selected_columns]

# Step 5: Apply feature reduction
X_reduced = perform_feature_reduction(X, y)

# Step 6: Combine reduced features with excluded columns
df_reduced = pd.concat([df[exclude_columns], X_reduced], axis=1)

# Step 7: Save reduced dataset to CSV
output_file = '/mnt/data/reduced_Fdroid_type2.csv'
df_reduced.to_csv(output_file, index=False)

# Done! Provide the output file path
output_file
