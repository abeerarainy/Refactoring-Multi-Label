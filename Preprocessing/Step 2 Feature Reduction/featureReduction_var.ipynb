import pandas as pd
from feature_reduction import perform_feature_reduction

# Load the dataset
file_path = r"C:\Users\HP\Dropbox\PHD\level 2\SWE620\project\Fdroid\variable\Fdroid_type3_scaled1.csv"
df = pd.read_csv(file_path)

# Define columns to exclude from feature selection
exclude_cols = ['className', 'fullMethodName', 'variableName', 'refactoring']

# Separate features (X) and target (y)
X_features = df.drop(columns=exclude_cols, errors='ignore')  # Features for reduction
y = df['refactoring']  # Target/label column

# Optional: Save excluded columns to add them back later
excluded_df = df[exclude_cols]

# Perform feature reduction (selection) on X_features
X_reduced = perform_feature_reduction(X_features, y)

# Reconstruct the final dataset with selected features + excluded columns
df_reduced = pd.concat([X_reduced, excluded_df], axis=1)

# Save the reduced feature dataset
reduced_file_path = r"C:\Users\HP\Dropbox\PHD\level 2\SWE620\project\Fdroid\variable\Fdroid_type3_reduced2.csv"
df_reduced.to_csv(reduced_file_path, index=False)

print(f"Feature selection complete. Reduced dataset saved to {reduced_file_path}.")
