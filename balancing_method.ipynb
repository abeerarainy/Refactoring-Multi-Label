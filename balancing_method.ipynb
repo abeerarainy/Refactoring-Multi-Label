import pandas as pd
import numpy as np
from sklearn.utils import resample

#  Load your multi-label dataset
file_path = r"C:\Users\HP\Dropbox\PHD\level 2\SWE620\project\Fdroid\method\multi_label_with_method_group.csv"
df = pd.read_csv(file_path)

#  Define label columns (multi-label targets in your dataset)
label_columns = [
    'Rename Method',
    'Extract Method',
    'Inline Method',
    'Move Method',
    'Extract And Move Method',
    'Push Down Method',
    'Pull Up Method'
]

#  Analyze the label distribution (to detect imbalance)
label_freq = df[label_columns].sum()
print("Original Label Frequencies:\n", label_freq)

#  Find the max label frequency (for balancing target)
max_freq = label_freq.max()
print(f"\nMaximum label frequency to balance to: {max_freq}\n")

#  Create an empty list to collect oversampled data
oversampled_data = []

#  ML-ROS: Random Oversampling for Multi-Label Instances
for label in label_columns:
    # Get instances where this label is active (label == 1)
    label_positive = df[df[label] == 1]
    
    # Get current count of this label
    current_count = label_positive.shape[0]
    
    # How many samples do we need to match the max label frequency?
    samples_needed = int(max_freq - current_count)
    
    print(f"Label: {label}")
    print(f"  Current count : {current_count}")
    print(f"  Samples needed: {samples_needed}")
    
    if samples_needed > 0:
        # Perform random oversampling (with replacement)
        oversampled_instances = resample(
            label_positive,
            replace=True,
            n_samples=samples_needed,
            random_state=42
        )
        
        oversampled_data.append(oversampled_instances)

#  Combine original dataset with oversampled instances
df_oversampled = pd.concat([df] + oversampled_data).reset_index(drop=True)

#  Shuffle the dataset (optional but recommended)
df_oversampled = df_oversampled.sample(frac=1, random_state=42).reset_index(drop=True)

#  Analyze new label distribution
new_label_freq = df_oversampled[label_columns].sum()
print("\nNew Label Frequencies (After ML-ROS):\n", new_label_freq)

# Save the balanced dataset
output_file_path = r"C:\Users\HP\Dropbox\PHD\level 2\SWE620\project\Fdroid\method\multi_label_balanced_ml_ros.csv"
df_oversampled.to_csv(output_file_path, index=False)

print(f"\n ML-ROS Balancing Complete! Saved as '{output_file_path}'.")
